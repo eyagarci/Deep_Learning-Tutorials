{
 "cells": [
  {
   "cell_type": "code",
   "execution_count": 2,
   "metadata": {},
   "outputs": [],
   "source": [
    "# import packages\n",
    "from sklearn import datasets\n",
    "import numpy as np\n",
    "import tensorflow as tf\n",
    "from sklearn.preprocessing import StandardScaler\n",
    "from sklearn.model_selection import train_test_split"
   ]
  },
  {
   "cell_type": "code",
   "execution_count": 4,
   "metadata": {},
   "outputs": [],
   "source": [
    "# import data\n",
    "df=datasets.load_breast_cancer()"
   ]
  },
  {
   "cell_type": "code",
   "execution_count": 5,
   "metadata": {},
   "outputs": [
    {
     "name": "stdout",
     "output_type": "stream",
     "text": [
      ".. _breast_cancer_dataset:\n",
      "\n",
      "Breast cancer wisconsin (diagnostic) dataset\n",
      "--------------------------------------------\n",
      "\n",
      "**Data Set Characteristics:**\n",
      "\n",
      "    :Number of Instances: 569\n",
      "\n",
      "    :Number of Attributes: 30 numeric, predictive attributes and the class\n",
      "\n",
      "    :Attribute Information:\n",
      "        - radius (mean of distances from center to points on the perimeter)\n",
      "        - texture (standard deviation of gray-scale values)\n",
      "        - perimeter\n",
      "        - area\n",
      "        - smoothness (local variation in radius lengths)\n",
      "        - compactness (perimeter^2 / area - 1.0)\n",
      "        - concavity (severity of concave portions of the contour)\n",
      "        - concave points (number of concave portions of the contour)\n",
      "        - symmetry\n",
      "        - fractal dimension (\"coastline approximation\" - 1)\n",
      "\n",
      "        The mean, standard error, and \"worst\" or largest (mean of the three\n",
      "        worst/largest values) of these features were computed for each image,\n",
      "        resulting in 30 features.  For instance, field 0 is Mean Radius, field\n",
      "        10 is Radius SE, field 20 is Worst Radius.\n",
      "\n",
      "        - class:\n",
      "                - WDBC-Malignant\n",
      "                - WDBC-Benign\n",
      "\n",
      "    :Summary Statistics:\n",
      "\n",
      "    ===================================== ====== ======\n",
      "                                           Min    Max\n",
      "    ===================================== ====== ======\n",
      "    radius (mean):                        6.981  28.11\n",
      "    texture (mean):                       9.71   39.28\n",
      "    perimeter (mean):                     43.79  188.5\n",
      "    area (mean):                          143.5  2501.0\n",
      "    smoothness (mean):                    0.053  0.163\n",
      "    compactness (mean):                   0.019  0.345\n",
      "    concavity (mean):                     0.0    0.427\n",
      "    concave points (mean):                0.0    0.201\n",
      "    symmetry (mean):                      0.106  0.304\n",
      "    fractal dimension (mean):             0.05   0.097\n",
      "    radius (standard error):              0.112  2.873\n",
      "    texture (standard error):             0.36   4.885\n",
      "    perimeter (standard error):           0.757  21.98\n",
      "    area (standard error):                6.802  542.2\n",
      "    smoothness (standard error):          0.002  0.031\n",
      "    compactness (standard error):         0.002  0.135\n",
      "    concavity (standard error):           0.0    0.396\n",
      "    concave points (standard error):      0.0    0.053\n",
      "    symmetry (standard error):            0.008  0.079\n",
      "    fractal dimension (standard error):   0.001  0.03\n",
      "    radius (worst):                       7.93   36.04\n",
      "    texture (worst):                      12.02  49.54\n",
      "    perimeter (worst):                    50.41  251.2\n",
      "    area (worst):                         185.2  4254.0\n",
      "    smoothness (worst):                   0.071  0.223\n",
      "    compactness (worst):                  0.027  1.058\n",
      "    concavity (worst):                    0.0    1.252\n",
      "    concave points (worst):               0.0    0.291\n",
      "    symmetry (worst):                     0.156  0.664\n",
      "    fractal dimension (worst):            0.055  0.208\n",
      "    ===================================== ====== ======\n",
      "\n",
      "    :Missing Attribute Values: None\n",
      "\n",
      "    :Class Distribution: 212 - Malignant, 357 - Benign\n",
      "\n",
      "    :Creator:  Dr. William H. Wolberg, W. Nick Street, Olvi L. Mangasarian\n",
      "\n",
      "    :Donor: Nick Street\n",
      "\n",
      "    :Date: November, 1995\n",
      "\n",
      "This is a copy of UCI ML Breast Cancer Wisconsin (Diagnostic) datasets.\n",
      "https://goo.gl/U2Uwz2\n",
      "\n",
      "Features are computed from a digitized image of a fine needle\n",
      "aspirate (FNA) of a breast mass.  They describe\n",
      "characteristics of the cell nuclei present in the image.\n",
      "\n",
      "Separating plane described above was obtained using\n",
      "Multisurface Method-Tree (MSM-T) [K. P. Bennett, \"Decision Tree\n",
      "Construction Via Linear Programming.\" Proceedings of the 4th\n",
      "Midwest Artificial Intelligence and Cognitive Science Society,\n",
      "pp. 97-101, 1992], a classification method which uses linear\n",
      "programming to construct a decision tree.  Relevant features\n",
      "were selected using an exhaustive search in the space of 1-4\n",
      "features and 1-3 separating planes.\n",
      "\n",
      "The actual linear program used to obtain the separating plane\n",
      "in the 3-dimensional space is that described in:\n",
      "[K. P. Bennett and O. L. Mangasarian: \"Robust Linear\n",
      "Programming Discrimination of Two Linearly Inseparable Sets\",\n",
      "Optimization Methods and Software 1, 1992, 23-34].\n",
      "\n",
      "This database is also available through the UW CS ftp server:\n",
      "\n",
      "ftp ftp.cs.wisc.edu\n",
      "cd math-prog/cpo-dataset/machine-learn/WDBC/\n",
      "\n",
      ".. topic:: References\n",
      "\n",
      "   - W.N. Street, W.H. Wolberg and O.L. Mangasarian. Nuclear feature extraction \n",
      "     for breast tumor diagnosis. IS&T/SPIE 1993 International Symposium on \n",
      "     Electronic Imaging: Science and Technology, volume 1905, pages 861-870,\n",
      "     San Jose, CA, 1993.\n",
      "   - O.L. Mangasarian, W.N. Street and W.H. Wolberg. Breast cancer diagnosis and \n",
      "     prognosis via linear programming. Operations Research, 43(4), pages 570-577, \n",
      "     July-August 1995.\n",
      "   - W.H. Wolberg, W.N. Street, and O.L. Mangasarian. Machine learning techniques\n",
      "     to diagnose breast cancer from fine-needle aspirates. Cancer Letters 77 (1994) \n",
      "     163-171.\n"
     ]
    }
   ],
   "source": [
    "# view data\n",
    "print(df.DESCR)"
   ]
  },
  {
   "cell_type": "code",
   "execution_count": 6,
   "metadata": {},
   "outputs": [
    {
     "data": {
      "text/plain": [
       "array([0, 0, 0, 0, 0, 0, 0, 0, 0, 0, 0, 0, 0, 0, 0, 0, 0, 0, 0, 1, 1, 1,\n",
       "       0, 0, 0, 0, 0, 0, 0, 0, 0, 0, 0, 0, 0, 0, 0, 1, 0, 0, 0, 0, 0, 0,\n",
       "       0, 0, 1, 0, 1, 1, 1, 1, 1, 0, 0, 1, 0, 0, 1, 1, 1, 1, 0, 1, 0, 0,\n",
       "       1, 1, 1, 1, 0, 1, 0, 0, 1, 0, 1, 0, 0, 1, 1, 1, 0, 0, 1, 0, 0, 0,\n",
       "       1, 1, 1, 0, 1, 1, 0, 0, 1, 1, 1, 0, 0, 1, 1, 1, 1, 0, 1, 1, 0, 1,\n",
       "       1, 1, 1, 1, 1, 1, 1, 0, 0, 0, 1, 0, 0, 1, 1, 1, 0, 0, 1, 0, 1, 0,\n",
       "       0, 1, 0, 0, 1, 1, 0, 1, 1, 0, 1, 1, 1, 1, 0, 1, 1, 1, 1, 1, 1, 1,\n",
       "       1, 1, 0, 1, 1, 1, 1, 0, 0, 1, 0, 1, 1, 0, 0, 1, 1, 0, 0, 1, 1, 1,\n",
       "       1, 0, 1, 1, 0, 0, 0, 1, 0, 1, 0, 1, 1, 1, 0, 1, 1, 0, 0, 1, 0, 0,\n",
       "       0, 0, 1, 0, 0, 0, 1, 0, 1, 0, 1, 1, 0, 1, 0, 0, 0, 0, 1, 1, 0, 0,\n",
       "       1, 1, 1, 0, 1, 1, 1, 1, 1, 0, 0, 1, 1, 0, 1, 1, 0, 0, 1, 0, 1, 1,\n",
       "       1, 1, 0, 1, 1, 1, 1, 1, 0, 1, 0, 0, 0, 0, 0, 0, 0, 0, 0, 0, 0, 0,\n",
       "       0, 0, 1, 1, 1, 1, 1, 1, 0, 1, 0, 1, 1, 0, 1, 1, 0, 1, 0, 0, 1, 1,\n",
       "       1, 1, 1, 1, 1, 1, 1, 1, 1, 1, 1, 0, 1, 1, 0, 1, 0, 1, 1, 1, 1, 1,\n",
       "       1, 1, 1, 1, 1, 1, 1, 1, 1, 0, 1, 1, 1, 0, 1, 0, 1, 1, 1, 1, 0, 0,\n",
       "       0, 1, 1, 1, 1, 0, 1, 0, 1, 0, 1, 1, 1, 0, 1, 1, 1, 1, 1, 1, 1, 0,\n",
       "       0, 0, 1, 1, 1, 1, 1, 1, 1, 1, 1, 1, 1, 0, 0, 1, 0, 0, 0, 1, 0, 0,\n",
       "       1, 1, 1, 1, 1, 0, 1, 1, 1, 1, 1, 0, 1, 1, 1, 0, 1, 1, 0, 0, 1, 1,\n",
       "       1, 1, 1, 1, 0, 1, 1, 1, 1, 1, 1, 1, 0, 1, 1, 1, 1, 1, 0, 1, 1, 0,\n",
       "       1, 1, 1, 1, 1, 1, 1, 1, 1, 1, 1, 1, 0, 1, 0, 0, 1, 0, 1, 1, 1, 1,\n",
       "       1, 0, 1, 1, 0, 1, 0, 1, 1, 0, 1, 0, 1, 1, 1, 1, 1, 1, 1, 1, 0, 0,\n",
       "       1, 1, 1, 1, 1, 1, 0, 1, 1, 1, 1, 1, 1, 1, 1, 1, 1, 0, 1, 1, 1, 1,\n",
       "       1, 1, 1, 0, 1, 0, 1, 1, 0, 1, 1, 1, 1, 1, 0, 0, 1, 0, 1, 0, 1, 1,\n",
       "       1, 1, 1, 0, 1, 1, 0, 1, 0, 1, 0, 0, 1, 1, 1, 0, 1, 1, 1, 1, 1, 1,\n",
       "       1, 1, 1, 1, 1, 0, 1, 0, 0, 1, 1, 1, 1, 1, 1, 1, 1, 1, 1, 1, 1, 1,\n",
       "       1, 1, 1, 1, 1, 1, 1, 1, 1, 1, 1, 1, 0, 0, 0, 0, 0, 0, 1])"
      ]
     },
     "execution_count": 6,
     "metadata": {},
     "output_type": "execute_result"
    }
   ],
   "source": [
    "df.target"
   ]
  },
  {
   "cell_type": "code",
   "execution_count": 7,
   "metadata": {},
   "outputs": [
    {
     "data": {
      "text/plain": [
       "array([[1.799e+01, 1.038e+01, 1.228e+02, ..., 2.654e-01, 4.601e-01,\n",
       "        1.189e-01],\n",
       "       [2.057e+01, 1.777e+01, 1.329e+02, ..., 1.860e-01, 2.750e-01,\n",
       "        8.902e-02],\n",
       "       [1.969e+01, 2.125e+01, 1.300e+02, ..., 2.430e-01, 3.613e-01,\n",
       "        8.758e-02],\n",
       "       ...,\n",
       "       [1.660e+01, 2.808e+01, 1.083e+02, ..., 1.418e-01, 2.218e-01,\n",
       "        7.820e-02],\n",
       "       [2.060e+01, 2.933e+01, 1.401e+02, ..., 2.650e-01, 4.087e-01,\n",
       "        1.240e-01],\n",
       "       [7.760e+00, 2.454e+01, 4.792e+01, ..., 0.000e+00, 2.871e-01,\n",
       "        7.039e-02]])"
      ]
     },
     "execution_count": 7,
     "metadata": {},
     "output_type": "execute_result"
    }
   ],
   "source": [
    "df.data"
   ]
  },
  {
   "cell_type": "code",
   "execution_count": 8,
   "metadata": {},
   "outputs": [],
   "source": [
    "# data preparation\n",
    "X=df.data\n",
    "y=df.target"
   ]
  },
  {
   "cell_type": "code",
   "execution_count": 9,
   "metadata": {},
   "outputs": [
    {
     "data": {
      "text/plain": [
       "array([[ 1.09706398, -2.07333501,  1.26993369, ...,  2.29607613,\n",
       "         2.75062224,  1.93701461],\n",
       "       [ 1.82982061, -0.35363241,  1.68595471, ...,  1.0870843 ,\n",
       "        -0.24388967,  0.28118999],\n",
       "       [ 1.57988811,  0.45618695,  1.56650313, ...,  1.95500035,\n",
       "         1.152255  ,  0.20139121],\n",
       "       ...,\n",
       "       [ 0.70228425,  2.0455738 ,  0.67267578, ...,  0.41406869,\n",
       "        -1.10454895, -0.31840916],\n",
       "       [ 1.83834103,  2.33645719,  1.98252415, ...,  2.28998549,\n",
       "         1.91908301,  2.21963528],\n",
       "       [-1.80840125,  1.22179204, -1.81438851, ..., -1.74506282,\n",
       "        -0.04813821, -0.75120669]])"
      ]
     },
     "execution_count": 9,
     "metadata": {},
     "output_type": "execute_result"
    }
   ],
   "source": [
    "scaler=StandardScaler()\n",
    "X_scaled=scaler.fit_transform(X)\n",
    "X_scaled"
   ]
  },
  {
   "cell_type": "code",
   "execution_count": 10,
   "metadata": {},
   "outputs": [],
   "source": [
    "X_train,X_test,y_train,y_test=train_test_split(X_scaled, y, test_size=0.2, random_state=42)"
   ]
  },
  {
   "cell_type": "code",
   "execution_count": 12,
   "metadata": {},
   "outputs": [
    {
     "name": "stdout",
     "output_type": "stream",
     "text": [
      "(455, 30) (114, 30)\n"
     ]
    }
   ],
   "source": [
    "print(X_train.shape,X_test.shape)"
   ]
  },
  {
   "cell_type": "code",
   "execution_count": 13,
   "metadata": {},
   "outputs": [],
   "source": [
    "# build neural network\n",
    "model=tf.keras.models.Sequential()"
   ]
  },
  {
   "cell_type": "code",
   "execution_count": 15,
   "metadata": {},
   "outputs": [
    {
     "name": "stdout",
     "output_type": "stream",
     "text": [
      "WARNING:tensorflow:From c:\\programdata\\miniconda3\\lib\\site-packages\\tensorflow\\python\\keras\\initializers.py:119: calling RandomUniform.__init__ (from tensorflow.python.ops.init_ops) with dtype is deprecated and will be removed in a future version.\n",
      "Instructions for updating:\n",
      "Call initializer instance with the dtype argument instead of passing it to the constructor\n"
     ]
    }
   ],
   "source": [
    "model.add(tf.keras.layers.Dense(units=15, activation='relu', kernel_initializer='uniform', input_dim=30))"
   ]
  },
  {
   "cell_type": "code",
   "execution_count": 16,
   "metadata": {},
   "outputs": [],
   "source": [
    "model.add(tf.keras.layers.Dense(units=1, activation='sigmoid', kernel_initializer='uniform'))"
   ]
  },
  {
   "cell_type": "code",
   "execution_count": 18,
   "metadata": {},
   "outputs": [
    {
     "name": "stdout",
     "output_type": "stream",
     "text": [
      "WARNING:tensorflow:From c:\\programdata\\miniconda3\\lib\\site-packages\\tensorflow\\python\\ops\\nn_impl.py:180: add_dispatch_support.<locals>.wrapper (from tensorflow.python.ops.array_ops) is deprecated and will be removed in a future version.\n",
      "Instructions for updating:\n",
      "Use tf.where in 2.0, which has the same broadcast rule as np.where\n"
     ]
    }
   ],
   "source": [
    "model.compile(optimizer='adam', loss='binary_crossentropy', metrics=['binary_accuracy'])"
   ]
  },
  {
   "cell_type": "code",
   "execution_count": 19,
   "metadata": {},
   "outputs": [
    {
     "name": "stdout",
     "output_type": "stream",
     "text": [
      "Model: \"sequential\"\n",
      "_________________________________________________________________\n",
      "Layer (type)                 Output Shape              Param #   \n",
      "=================================================================\n",
      "dense (Dense)                (None, 15)                465       \n",
      "_________________________________________________________________\n",
      "dense_1 (Dense)              (None, 1)                 16        \n",
      "=================================================================\n",
      "Total params: 481\n",
      "Trainable params: 481\n",
      "Non-trainable params: 0\n",
      "_________________________________________________________________\n"
     ]
    }
   ],
   "source": [
    "model.summary()"
   ]
  },
  {
   "cell_type": "code",
   "execution_count": 20,
   "metadata": {},
   "outputs": [
    {
     "name": "stdout",
     "output_type": "stream",
     "text": [
      "Epoch 1/100\n",
      "455/455 [==============================] - 0s 356us/sample - loss: 0.6367 - binary_accuracy: 0.9231\n",
      "Epoch 2/100\n",
      "455/455 [==============================] - 0s 80us/sample - loss: 0.4307 - binary_accuracy: 0.9341\n",
      "Epoch 3/100\n",
      "455/455 [==============================] - 0s 93us/sample - loss: 0.2582 - binary_accuracy: 0.9385\n",
      "Epoch 4/100\n",
      "455/455 [==============================] - 0s 79us/sample - loss: 0.1807 - binary_accuracy: 0.9560\n",
      "Epoch 5/100\n",
      "455/455 [==============================] - 0s 91us/sample - loss: 0.1426 - binary_accuracy: 0.9648\n",
      "Epoch 6/100\n",
      "455/455 [==============================] - 0s 88us/sample - loss: 0.1201 - binary_accuracy: 0.9736\n",
      "Epoch 7/100\n",
      "455/455 [==============================] - 0s 85us/sample - loss: 0.1049 - binary_accuracy: 0.9758\n",
      "Epoch 8/100\n",
      "455/455 [==============================] - 0s 75us/sample - loss: 0.0945 - binary_accuracy: 0.9780\n",
      "Epoch 9/100\n",
      "455/455 [==============================] - 0s 82us/sample - loss: 0.0870 - binary_accuracy: 0.9780\n",
      "Epoch 10/100\n",
      "455/455 [==============================] - 0s 93us/sample - loss: 0.0812 - binary_accuracy: 0.9824\n",
      "Epoch 11/100\n",
      "455/455 [==============================] - 0s 94us/sample - loss: 0.0766 - binary_accuracy: 0.9846\n",
      "Epoch 12/100\n",
      "455/455 [==============================] - 0s 109us/sample - loss: 0.0728 - binary_accuracy: 0.9846\n",
      "Epoch 13/100\n",
      "455/455 [==============================] - 0s 79us/sample - loss: 0.0696 - binary_accuracy: 0.9846\n",
      "Epoch 14/100\n",
      "455/455 [==============================] - 0s 94us/sample - loss: 0.0670 - binary_accuracy: 0.9846\n",
      "Epoch 15/100\n",
      "455/455 [==============================] - 0s 81us/sample - loss: 0.0649 - binary_accuracy: 0.9846\n",
      "Epoch 16/100\n",
      "455/455 [==============================] - 0s 105us/sample - loss: 0.0630 - binary_accuracy: 0.9846\n",
      "Epoch 17/100\n",
      "455/455 [==============================] - 0s 84us/sample - loss: 0.0613 - binary_accuracy: 0.9846\n",
      "Epoch 18/100\n",
      "455/455 [==============================] - 0s 79us/sample - loss: 0.0600 - binary_accuracy: 0.9846\n",
      "Epoch 19/100\n",
      "455/455 [==============================] - 0s 79us/sample - loss: 0.0586 - binary_accuracy: 0.9846\n",
      "Epoch 20/100\n",
      "455/455 [==============================] - 0s 78us/sample - loss: 0.0572 - binary_accuracy: 0.9846\n",
      "Epoch 21/100\n",
      "455/455 [==============================] - 0s 77us/sample - loss: 0.0562 - binary_accuracy: 0.9846\n",
      "Epoch 22/100\n",
      "455/455 [==============================] - 0s 75us/sample - loss: 0.0551 - binary_accuracy: 0.9846\n",
      "Epoch 23/100\n",
      "455/455 [==============================] - 0s 75us/sample - loss: 0.0544 - binary_accuracy: 0.9846\n",
      "Epoch 24/100\n",
      "455/455 [==============================] - ETA: 0s - loss: 0.0491 - binary_accuracy: 1.000 - 0s 75us/sample - loss: 0.0533 - binary_accuracy: 0.9846\n",
      "Epoch 25/100\n",
      "455/455 [==============================] - 0s 75us/sample - loss: 0.0521 - binary_accuracy: 0.9846\n",
      "Epoch 26/100\n",
      "455/455 [==============================] - 0s 77us/sample - loss: 0.0514 - binary_accuracy: 0.9846\n",
      "Epoch 27/100\n",
      "455/455 [==============================] - 0s 77us/sample - loss: 0.0506 - binary_accuracy: 0.9846\n",
      "Epoch 28/100\n",
      "455/455 [==============================] - 0s 79us/sample - loss: 0.0496 - binary_accuracy: 0.9846\n",
      "Epoch 29/100\n",
      "455/455 [==============================] - 0s 75us/sample - loss: 0.0492 - binary_accuracy: 0.9846\n",
      "Epoch 30/100\n",
      "455/455 [==============================] - 0s 74us/sample - loss: 0.0483 - binary_accuracy: 0.9846\n",
      "Epoch 31/100\n",
      "455/455 [==============================] - 0s 77us/sample - loss: 0.0476 - binary_accuracy: 0.9846\n",
      "Epoch 32/100\n",
      "455/455 [==============================] - 0s 79us/sample - loss: 0.0471 - binary_accuracy: 0.9846\n",
      "Epoch 33/100\n",
      "455/455 [==============================] - 0s 85us/sample - loss: 0.0464 - binary_accuracy: 0.9846\n",
      "Epoch 34/100\n",
      "455/455 [==============================] - 0s 79us/sample - loss: 0.0462 - binary_accuracy: 0.9846\n",
      "Epoch 35/100\n",
      "455/455 [==============================] - 0s 81us/sample - loss: 0.0456 - binary_accuracy: 0.9868\n",
      "Epoch 36/100\n",
      "455/455 [==============================] - 0s 92us/sample - loss: 0.0442 - binary_accuracy: 0.9890\n",
      "Epoch 37/100\n",
      "455/455 [==============================] - 0s 90us/sample - loss: 0.0436 - binary_accuracy: 0.9868\n",
      "Epoch 38/100\n",
      "455/455 [==============================] - 0s 99us/sample - loss: 0.0433 - binary_accuracy: 0.9868\n",
      "Epoch 39/100\n",
      "455/455 [==============================] - 0s 90us/sample - loss: 0.0426 - binary_accuracy: 0.9868\n",
      "Epoch 40/100\n",
      "455/455 [==============================] - 0s 81us/sample - loss: 0.0420 - binary_accuracy: 0.9890\n",
      "Epoch 41/100\n",
      "455/455 [==============================] - 0s 77us/sample - loss: 0.0415 - binary_accuracy: 0.9890\n",
      "Epoch 42/100\n",
      "455/455 [==============================] - 0s 75us/sample - loss: 0.0404 - binary_accuracy: 0.9868\n",
      "Epoch 43/100\n",
      "455/455 [==============================] - 0s 77us/sample - loss: 0.0402 - binary_accuracy: 0.9868\n",
      "Epoch 44/100\n",
      "455/455 [==============================] - 0s 90us/sample - loss: 0.0395 - binary_accuracy: 0.9890\n",
      "Epoch 45/100\n",
      "455/455 [==============================] - 0s 79us/sample - loss: 0.0390 - binary_accuracy: 0.9890\n",
      "Epoch 46/100\n",
      "455/455 [==============================] - 0s 70us/sample - loss: 0.0384 - binary_accuracy: 0.9890\n",
      "Epoch 47/100\n",
      "455/455 [==============================] - 0s 75us/sample - loss: 0.0379 - binary_accuracy: 0.9868\n",
      "Epoch 48/100\n",
      "455/455 [==============================] - 0s 77us/sample - loss: 0.0372 - binary_accuracy: 0.9890\n",
      "Epoch 49/100\n",
      "455/455 [==============================] - 0s 79us/sample - loss: 0.0369 - binary_accuracy: 0.9912\n",
      "Epoch 50/100\n",
      "455/455 [==============================] - 0s 77us/sample - loss: 0.0367 - binary_accuracy: 0.9912\n",
      "Epoch 51/100\n",
      "455/455 [==============================] - 0s 76us/sample - loss: 0.0358 - binary_accuracy: 0.9890\n",
      "Epoch 52/100\n",
      "455/455 [==============================] - 0s 75us/sample - loss: 0.0355 - binary_accuracy: 0.9934\n",
      "Epoch 53/100\n",
      "455/455 [==============================] - 0s 81us/sample - loss: 0.0348 - binary_accuracy: 0.9912\n",
      "Epoch 54/100\n",
      "455/455 [==============================] - 0s 74us/sample - loss: 0.0342 - binary_accuracy: 0.9934\n",
      "Epoch 55/100\n",
      "455/455 [==============================] - 0s 68us/sample - loss: 0.0336 - binary_accuracy: 0.9934\n",
      "Epoch 56/100\n",
      "455/455 [==============================] - 0s 80us/sample - loss: 0.0336 - binary_accuracy: 0.9934\n",
      "Epoch 57/100\n",
      "455/455 [==============================] - 0s 72us/sample - loss: 0.0330 - binary_accuracy: 0.9934\n",
      "Epoch 58/100\n",
      "455/455 [==============================] - 0s 72us/sample - loss: 0.0329 - binary_accuracy: 0.9912\n",
      "Epoch 59/100\n",
      "455/455 [==============================] - 0s 83us/sample - loss: 0.0319 - binary_accuracy: 0.9934\n",
      "Epoch 60/100\n",
      "455/455 [==============================] - 0s 81us/sample - loss: 0.0318 - binary_accuracy: 0.9934\n",
      "Epoch 61/100\n",
      "455/455 [==============================] - 0s 81us/sample - loss: 0.0311 - binary_accuracy: 0.9934\n",
      "Epoch 62/100\n",
      "455/455 [==============================] - 0s 77us/sample - loss: 0.0307 - binary_accuracy: 0.9934\n",
      "Epoch 63/100\n",
      "455/455 [==============================] - 0s 81us/sample - loss: 0.0303 - binary_accuracy: 0.9934\n",
      "Epoch 64/100\n",
      "455/455 [==============================] - 0s 77us/sample - loss: 0.0299 - binary_accuracy: 0.9934\n",
      "Epoch 65/100\n",
      "455/455 [==============================] - 0s 70us/sample - loss: 0.0292 - binary_accuracy: 0.9934\n",
      "Epoch 66/100\n",
      "455/455 [==============================] - 0s 72us/sample - loss: 0.0292 - binary_accuracy: 0.9934\n",
      "Epoch 67/100\n",
      "455/455 [==============================] - 0s 79us/sample - loss: 0.0284 - binary_accuracy: 0.9934\n",
      "Epoch 68/100\n",
      "455/455 [==============================] - 0s 74us/sample - loss: 0.0282 - binary_accuracy: 0.9934\n",
      "Epoch 69/100\n",
      "455/455 [==============================] - 0s 72us/sample - loss: 0.0276 - binary_accuracy: 0.9934\n",
      "Epoch 70/100\n",
      "455/455 [==============================] - 0s 79us/sample - loss: 0.0272 - binary_accuracy: 0.9934\n",
      "Epoch 71/100\n",
      "455/455 [==============================] - 0s 70us/sample - loss: 0.0269 - binary_accuracy: 0.9934\n",
      "Epoch 72/100\n",
      "455/455 [==============================] - 0s 68us/sample - loss: 0.0265 - binary_accuracy: 0.9934\n",
      "Epoch 73/100\n"
     ]
    },
    {
     "name": "stdout",
     "output_type": "stream",
     "text": [
      "455/455 [==============================] - 0s 77us/sample - loss: 0.0261 - binary_accuracy: 0.9934\n",
      "Epoch 74/100\n",
      "455/455 [==============================] - 0s 77us/sample - loss: 0.0257 - binary_accuracy: 0.9934\n",
      "Epoch 75/100\n",
      "455/455 [==============================] - 0s 70us/sample - loss: 0.0250 - binary_accuracy: 0.9934\n",
      "Epoch 76/100\n",
      "455/455 [==============================] - 0s 72us/sample - loss: 0.0249 - binary_accuracy: 0.9934\n",
      "Epoch 77/100\n",
      "455/455 [==============================] - 0s 75us/sample - loss: 0.0243 - binary_accuracy: 0.9934\n",
      "Epoch 78/100\n",
      "455/455 [==============================] - 0s 79us/sample - loss: 0.0244 - binary_accuracy: 0.9934\n",
      "Epoch 79/100\n",
      "455/455 [==============================] - 0s 83us/sample - loss: 0.0234 - binary_accuracy: 0.9934\n",
      "Epoch 80/100\n",
      "455/455 [==============================] - 0s 72us/sample - loss: 0.0230 - binary_accuracy: 0.9934\n",
      "Epoch 81/100\n",
      "455/455 [==============================] - 0s 79us/sample - loss: 0.0230 - binary_accuracy: 0.9934\n",
      "Epoch 82/100\n",
      "455/455 [==============================] - 0s 79us/sample - loss: 0.0228 - binary_accuracy: 0.9934\n",
      "Epoch 83/100\n",
      "455/455 [==============================] - 0s 77us/sample - loss: 0.0225 - binary_accuracy: 0.9934\n",
      "Epoch 84/100\n",
      "455/455 [==============================] - 0s 81us/sample - loss: 0.0220 - binary_accuracy: 0.9934\n",
      "Epoch 85/100\n",
      "455/455 [==============================] - 0s 77us/sample - loss: 0.0213 - binary_accuracy: 0.9934\n",
      "Epoch 86/100\n",
      "455/455 [==============================] - 0s 83us/sample - loss: 0.0210 - binary_accuracy: 0.9934\n",
      "Epoch 87/100\n",
      "455/455 [==============================] - 0s 80us/sample - loss: 0.0209 - binary_accuracy: 0.9934\n",
      "Epoch 88/100\n",
      "455/455 [==============================] - 0s 81us/sample - loss: 0.0203 - binary_accuracy: 0.9934\n",
      "Epoch 89/100\n",
      "455/455 [==============================] - 0s 83us/sample - loss: 0.0199 - binary_accuracy: 0.9934\n",
      "Epoch 90/100\n",
      "455/455 [==============================] - 0s 81us/sample - loss: 0.0196 - binary_accuracy: 0.9934\n",
      "Epoch 91/100\n",
      "455/455 [==============================] - 0s 77us/sample - loss: 0.0192 - binary_accuracy: 0.9934\n",
      "Epoch 92/100\n",
      "455/455 [==============================] - 0s 79us/sample - loss: 0.0192 - binary_accuracy: 0.9934\n",
      "Epoch 93/100\n",
      "455/455 [==============================] - 0s 75us/sample - loss: 0.0187 - binary_accuracy: 0.9934\n",
      "Epoch 94/100\n",
      "455/455 [==============================] - 0s 79us/sample - loss: 0.0183 - binary_accuracy: 0.9934\n",
      "Epoch 95/100\n",
      "455/455 [==============================] - 0s 75us/sample - loss: 0.0179 - binary_accuracy: 0.9934\n",
      "Epoch 96/100\n",
      "455/455 [==============================] - 0s 77us/sample - loss: 0.0177 - binary_accuracy: 0.9934\n",
      "Epoch 97/100\n",
      "455/455 [==============================] - 0s 85us/sample - loss: 0.0171 - binary_accuracy: 0.9934\n",
      "Epoch 98/100\n",
      "455/455 [==============================] - 0s 75us/sample - loss: 0.0171 - binary_accuracy: 0.9934\n",
      "Epoch 99/100\n",
      "455/455 [==============================] - 0s 88us/sample - loss: 0.0169 - binary_accuracy: 0.9934\n",
      "Epoch 100/100\n",
      "455/455 [==============================] - 0s 91us/sample - loss: 0.0166 - binary_accuracy: 0.9934\n"
     ]
    },
    {
     "data": {
      "text/plain": [
       "<tensorflow.python.keras.callbacks.History at 0x1c10de6a1d0>"
      ]
     },
     "execution_count": 20,
     "metadata": {},
     "output_type": "execute_result"
    }
   ],
   "source": [
    "model.fit(X_train, y_train, batch_size=10, epochs=100)"
   ]
  },
  {
   "cell_type": "code",
   "execution_count": 21,
   "metadata": {},
   "outputs": [
    {
     "name": "stdout",
     "output_type": "stream",
     "text": [
      "114/114 [==============================] - 0s 219us/sample - loss: 0.0565 - binary_accuracy: 0.9912\n",
      "Test loss 0.05647204001025673 and test accuracy 0.9912280440330505\n"
     ]
    }
   ],
   "source": [
    "test_loss,test_accuracy=model.evaluate(X_test,y_test)\n",
    "print(f'Test loss {test_loss} and test accuracy {test_accuracy}')"
   ]
  }
 ],
 "metadata": {
  "kernelspec": {
   "display_name": "Python 3",
   "language": "python",
   "name": "python3"
  },
  "language_info": {
   "codemirror_mode": {
    "name": "ipython",
    "version": 3
   },
   "file_extension": ".py",
   "mimetype": "text/x-python",
   "name": "python",
   "nbconvert_exporter": "python",
   "pygments_lexer": "ipython3",
   "version": "3.7.3"
  }
 },
 "nbformat": 4,
 "nbformat_minor": 2
}
